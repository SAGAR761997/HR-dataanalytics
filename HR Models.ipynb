{
 "cells": [
  {
   "cell_type": "code",
   "execution_count": 1,
   "metadata": {},
   "outputs": [],
   "source": [
    "import pandas as pd\n",
    "import numpy as np\n",
    "import matplotlib.pyplot as plt\n",
    "%matplotlib inline\n",
    "plt.style.use(\"ggplot\")\n",
    "import seaborn as sns"
   ]
  },
  {
   "cell_type": "code",
   "execution_count": 2,
   "metadata": {},
   "outputs": [],
   "source": [
    "sns.set(rc={'figure.figsize':(11.7,8.27)})"
   ]
  },
  {
   "cell_type": "code",
   "execution_count": 3,
   "metadata": {},
   "outputs": [
    {
     "data": {
      "text/html": [
       "<div>\n",
       "<style scoped>\n",
       "    .dataframe tbody tr th:only-of-type {\n",
       "        vertical-align: middle;\n",
       "    }\n",
       "\n",
       "    .dataframe tbody tr th {\n",
       "        vertical-align: top;\n",
       "    }\n",
       "\n",
       "    .dataframe thead th {\n",
       "        text-align: right;\n",
       "    }\n",
       "</style>\n",
       "<table border=\"1\" class=\"dataframe\">\n",
       "  <thead>\n",
       "    <tr style=\"text-align: right;\">\n",
       "      <th></th>\n",
       "      <th>satisfaction_level</th>\n",
       "      <th>last_evaluation</th>\n",
       "      <th>number_project</th>\n",
       "      <th>average_montly_hours</th>\n",
       "      <th>time_spend_company</th>\n",
       "      <th>Work_accident</th>\n",
       "      <th>left</th>\n",
       "      <th>promotion_last_5years</th>\n",
       "      <th>sales</th>\n",
       "      <th>salary</th>\n",
       "    </tr>\n",
       "  </thead>\n",
       "  <tbody>\n",
       "    <tr>\n",
       "      <th>0</th>\n",
       "      <td>0.38</td>\n",
       "      <td>0.53</td>\n",
       "      <td>2</td>\n",
       "      <td>157</td>\n",
       "      <td>3</td>\n",
       "      <td>0</td>\n",
       "      <td>1</td>\n",
       "      <td>0</td>\n",
       "      <td>sales</td>\n",
       "      <td>low</td>\n",
       "    </tr>\n",
       "    <tr>\n",
       "      <th>1</th>\n",
       "      <td>0.80</td>\n",
       "      <td>0.86</td>\n",
       "      <td>5</td>\n",
       "      <td>262</td>\n",
       "      <td>6</td>\n",
       "      <td>0</td>\n",
       "      <td>1</td>\n",
       "      <td>0</td>\n",
       "      <td>sales</td>\n",
       "      <td>medium</td>\n",
       "    </tr>\n",
       "    <tr>\n",
       "      <th>2</th>\n",
       "      <td>0.11</td>\n",
       "      <td>0.88</td>\n",
       "      <td>7</td>\n",
       "      <td>272</td>\n",
       "      <td>4</td>\n",
       "      <td>0</td>\n",
       "      <td>1</td>\n",
       "      <td>0</td>\n",
       "      <td>sales</td>\n",
       "      <td>medium</td>\n",
       "    </tr>\n",
       "    <tr>\n",
       "      <th>3</th>\n",
       "      <td>0.72</td>\n",
       "      <td>0.87</td>\n",
       "      <td>5</td>\n",
       "      <td>223</td>\n",
       "      <td>5</td>\n",
       "      <td>0</td>\n",
       "      <td>1</td>\n",
       "      <td>0</td>\n",
       "      <td>sales</td>\n",
       "      <td>low</td>\n",
       "    </tr>\n",
       "    <tr>\n",
       "      <th>4</th>\n",
       "      <td>0.37</td>\n",
       "      <td>0.52</td>\n",
       "      <td>2</td>\n",
       "      <td>159</td>\n",
       "      <td>3</td>\n",
       "      <td>0</td>\n",
       "      <td>1</td>\n",
       "      <td>0</td>\n",
       "      <td>sales</td>\n",
       "      <td>low</td>\n",
       "    </tr>\n",
       "  </tbody>\n",
       "</table>\n",
       "</div>"
      ],
      "text/plain": [
       "   satisfaction_level  last_evaluation  number_project  average_montly_hours  \\\n",
       "0                0.38             0.53               2                   157   \n",
       "1                0.80             0.86               5                   262   \n",
       "2                0.11             0.88               7                   272   \n",
       "3                0.72             0.87               5                   223   \n",
       "4                0.37             0.52               2                   159   \n",
       "\n",
       "   time_spend_company  Work_accident  left  promotion_last_5years  sales  \\\n",
       "0                   3              0     1                      0  sales   \n",
       "1                   6              0     1                      0  sales   \n",
       "2                   4              0     1                      0  sales   \n",
       "3                   5              0     1                      0  sales   \n",
       "4                   3              0     1                      0  sales   \n",
       "\n",
       "   salary  \n",
       "0     low  \n",
       "1  medium  \n",
       "2  medium  \n",
       "3     low  \n",
       "4     low  "
      ]
     },
     "execution_count": 3,
     "metadata": {},
     "output_type": "execute_result"
    }
   ],
   "source": [
    "df=pd.read_csv(\"HR_comma_sep.csv\")\n",
    "df.head()"
   ]
  },
  {
   "cell_type": "code",
   "execution_count": 4,
   "metadata": {},
   "outputs": [
    {
     "data": {
      "text/plain": [
       "satisfaction_level       float64\n",
       "last_evaluation          float64\n",
       "number_project             int64\n",
       "average_montly_hours       int64\n",
       "time_spend_company         int64\n",
       "Work_accident              int64\n",
       "left                       int64\n",
       "promotion_last_5years      int64\n",
       "sales                     object\n",
       "salary                    object\n",
       "dtype: object"
      ]
     },
     "execution_count": 4,
     "metadata": {},
     "output_type": "execute_result"
    }
   ],
   "source": [
    "df.dtypes"
   ]
  },
  {
   "cell_type": "code",
   "execution_count": 5,
   "metadata": {},
   "outputs": [
    {
     "data": {
      "text/plain": [
       "<matplotlib.axes._subplots.AxesSubplot at 0x29ff23acc50>"
      ]
     },
     "execution_count": 5,
     "metadata": {},
     "output_type": "execute_result"
    },
    {
     "data": {
      "image/png": "[encoded data removed]",
      "text/plain": [
       "<Figure size 842.4x595.44 with 2 Axes>"
      ]
     },
     "metadata": {},
     "output_type": "display_data"
    }
   ],
   "source": [
    "sns.heatmap(data=df.cov(),vmin=-1.,vmax=1.,annot=True,cmap='winter',linewidths=1)"
   ]
  },
  {
   "cell_type": "code",
   "execution_count": 6,
   "metadata": {},
   "outputs": [],
   "source": [
    "dicl=[]\n",
    "for c in dict([(k,v) for k,v in zip(df.dtypes.index,df.dtypes) if v==np.dtype(\"O\")]).keys():\n",
    "    dicl.append((c,dict([(e,i) for i,e in enumerate(set(df[c]))])))\n",
    "    df[c]=df[c].map(dicl[-1][1])\n",
    "dc=dict(dicl)"
   ]
  },
  {
   "cell_type": "code",
   "execution_count": 7,
   "metadata": {},
   "outputs": [
    {
     "data": {
      "text/plain": [
       "{'sales': {'accounting': 0,\n",
       "  'technical': 1,\n",
       "  'IT': 2,\n",
       "  'hr': 3,\n",
       "  'sales': 4,\n",
       "  'marketing': 5,\n",
       "  'RandD': 6,\n",
       "  'product_mng': 7,\n",
       "  'support': 8,\n",
       "  'management': 9},\n",
       " 'salary': {'high': 0, 'medium': 1, 'low': 2}}"
      ]
     },
     "execution_count": 7,
     "metadata": {},
     "output_type": "execute_result"
    }
   ],
   "source": [
    "dc"
   ]
  },
  {
   "cell_type": "code",
   "execution_count": 8,
   "metadata": {},
   "outputs": [
    {
     "data": {
      "text/html": [
       "<div>\n",
       "<style scoped>\n",
       "    .dataframe tbody tr th:only-of-type {\n",
       "        vertical-align: middle;\n",
       "    }\n",
       "\n",
       "    .dataframe tbody tr th {\n",
       "        vertical-align: top;\n",
       "    }\n",
       "\n",
       "    .dataframe thead th {\n",
       "        text-align: right;\n",
       "    }\n",
       "</style>\n",
       "<table border=\"1\" class=\"dataframe\">\n",
       "  <thead>\n",
       "    <tr style=\"text-align: right;\">\n",
       "      <th></th>\n",
       "      <th>satisfaction_level</th>\n",
       "      <th>last_evaluation</th>\n",
       "      <th>number_project</th>\n",
       "      <th>average_montly_hours</th>\n",
       "      <th>time_spend_company</th>\n",
       "      <th>Work_accident</th>\n",
       "      <th>left</th>\n",
       "      <th>promotion_last_5years</th>\n",
       "      <th>sales</th>\n",
       "      <th>salary</th>\n",
       "    </tr>\n",
       "  </thead>\n",
       "  <tbody>\n",
       "    <tr>\n",
       "      <th>0</th>\n",
       "      <td>0.38</td>\n",
       "      <td>0.53</td>\n",
       "      <td>2</td>\n",
       "      <td>157</td>\n",
       "      <td>3</td>\n",
       "      <td>0</td>\n",
       "      <td>1</td>\n",
       "      <td>0</td>\n",
       "      <td>4</td>\n",
       "      <td>2</td>\n",
       "    </tr>\n",
       "    <tr>\n",
       "      <th>1</th>\n",
       "      <td>0.80</td>\n",
       "      <td>0.86</td>\n",
       "      <td>5</td>\n",
       "      <td>262</td>\n",
       "      <td>6</td>\n",
       "      <td>0</td>\n",
       "      <td>1</td>\n",
       "      <td>0</td>\n",
       "      <td>4</td>\n",
       "      <td>1</td>\n",
       "    </tr>\n",
       "    <tr>\n",
       "      <th>2</th>\n",
       "      <td>0.11</td>\n",
       "      <td>0.88</td>\n",
       "      <td>7</td>\n",
       "      <td>272</td>\n",
       "      <td>4</td>\n",
       "      <td>0</td>\n",
       "      <td>1</td>\n",
       "      <td>0</td>\n",
       "      <td>4</td>\n",
       "      <td>1</td>\n",
       "    </tr>\n",
       "    <tr>\n",
       "      <th>3</th>\n",
       "      <td>0.72</td>\n",
       "      <td>0.87</td>\n",
       "      <td>5</td>\n",
       "      <td>223</td>\n",
       "      <td>5</td>\n",
       "      <td>0</td>\n",
       "      <td>1</td>\n",
       "      <td>0</td>\n",
       "      <td>4</td>\n",
       "      <td>2</td>\n",
       "    </tr>\n",
       "    <tr>\n",
       "      <th>4</th>\n",
       "      <td>0.37</td>\n",
       "      <td>0.52</td>\n",
       "      <td>2</td>\n",
       "      <td>159</td>\n",
       "      <td>3</td>\n",
       "      <td>0</td>\n",
       "      <td>1</td>\n",
       "      <td>0</td>\n",
       "      <td>4</td>\n",
       "      <td>2</td>\n",
       "    </tr>\n",
       "  </tbody>\n",
       "</table>\n",
       "</div>"
      ],
      "text/plain": [
       "   satisfaction_level  last_evaluation  number_project  average_montly_hours  \\\n",
       "0                0.38             0.53               2                   157   \n",
       "1                0.80             0.86               5                   262   \n",
       "2                0.11             0.88               7                   272   \n",
       "3                0.72             0.87               5                   223   \n",
       "4                0.37             0.52               2                   159   \n",
       "\n",
       "   time_spend_company  Work_accident  left  promotion_last_5years  sales  \\\n",
       "0                   3              0     1                      0      4   \n",
       "1                   6              0     1                      0      4   \n",
       "2                   4              0     1                      0      4   \n",
       "3                   5              0     1                      0      4   \n",
       "4                   3              0     1                      0      4   \n",
       "\n",
       "   salary  \n",
       "0       2  \n",
       "1       1  \n",
       "2       1  \n",
       "3       2  \n",
       "4       2  "
      ]
     },
     "execution_count": 8,
     "metadata": {},
     "output_type": "execute_result"
    }
   ],
   "source": [
    "df.head()"
   ]
  },
  {
   "cell_type": "markdown",
   "metadata": {},
   "source": [
    "# Data Preprocessing"
   ]
  },
  {
   "cell_type": "code",
   "execution_count": 9,
   "metadata": {},
   "outputs": [],
   "source": [
    "from sklearn.model_selection import train_test_split\n",
    "from sklearn.preprocessing import StandardScaler"
   ]
  },
  {
   "cell_type": "code",
   "execution_count": 10,
   "metadata": {},
   "outputs": [],
   "source": [
    "X=df.drop(columns=['left'])\n",
    "y=df.left"
   ]
  },
  {
   "cell_type": "code",
   "execution_count": 11,
   "metadata": {},
   "outputs": [],
   "source": [
    "X_train, X_test, y_train, y_test = train_test_split(X, y, test_size=0.33, random_state=42)"
   ]
  },
  {
   "cell_type": "code",
   "execution_count": 12,
   "metadata": {},
   "outputs": [
    {
     "name": "stderr",
     "output_type": "stream",
     "text": [
      "C:\\Users\\USER\\Anaconda\\Anaconda3\\lib\\site-packages\\sklearn\\preprocessing\\data.py:645: DataConversionWarning: Data with input dtype int64, float64 were all converted to float64 by StandardScaler.\n",
      "  return self.partial_fit(X, y)\n",
      "C:\\Users\\USER\\Anaconda\\Anaconda3\\lib\\site-packages\\sklearn\\base.py:464: DataConversionWarning: Data with input dtype int64, float64 were all converted to float64 by StandardScaler.\n",
      "  return self.fit(X, **fit_params).transform(X)\n",
      "C:\\Users\\USER\\Anaconda\\Anaconda3\\lib\\site-packages\\ipykernel_launcher.py:3: DataConversionWarning: Data with input dtype int64, float64 were all converted to float64 by StandardScaler.\n",
      "  This is separate from the ipykernel package so we can avoid doing imports until\n"
     ]
    }
   ],
   "source": [
    "scalar=StandardScaler()\n",
    "X_train=scalar.fit_transform(X_train)\n",
    "X_test=scalar.transform(X_test)"
   ]
  },
  {
   "cell_type": "markdown",
   "metadata": {},
   "source": [
    "# Model with Logistic Regression"
   ]
  },
  {
   "cell_type": "code",
   "execution_count": 13,
   "metadata": {},
   "outputs": [],
   "source": [
    "from sklearn.linear_model import LogisticRegression"
   ]
  },
  {
   "cell_type": "code",
   "execution_count": 28,
   "metadata": {},
   "outputs": [
    {
     "name": "stderr",
     "output_type": "stream",
     "text": [
      "C:\\Users\\USER\\Anaconda\\Anaconda3\\lib\\site-packages\\sklearn\\linear_model\\logistic.py:433: FutureWarning: Default solver will be changed to 'lbfgs' in 0.22. Specify a solver to silence this warning.\n",
      "  FutureWarning)\n"
     ]
    },
    {
     "data": {
      "text/plain": [
       "LogisticRegression(C=1.0, class_weight=None, dual=False, fit_intercept=True,\n",
       "          intercept_scaling=1, max_iter=100, multi_class='warn',\n",
       "          n_jobs=None, penalty='l2', random_state=None, solver='warn',\n",
       "          tol=0.0001, verbose=0, warm_start=False)"
      ]
     },
     "execution_count": 28,
     "metadata": {},
     "output_type": "execute_result"
    }
   ],
   "source": [
    "logreg=LogisticRegression()\n",
    "logreg.fit(X_train,y_train)"
   ]
  },
  {
   "cell_type": "code",
   "execution_count": 15,
   "metadata": {},
   "outputs": [],
   "source": [
    "tr_pred=logreg.predict(X_train)\n",
    "te_pred=logreg.predict(X_test)"
   ]
  },
  {
   "cell_type": "code",
   "execution_count": 16,
   "metadata": {},
   "outputs": [
    {
     "name": "stdout",
     "output_type": "stream",
     "text": [
      "For training:\n",
      "               precision    recall  f1-score   support\n",
      "\n",
      "           0       0.82      0.93      0.87      7659\n",
      "           1       0.61      0.37      0.46      2390\n",
      "\n",
      "   micro avg       0.79      0.79      0.79     10049\n",
      "   macro avg       0.72      0.65      0.67     10049\n",
      "weighted avg       0.77      0.79      0.78     10049\n",
      "\n",
      "Accuracy: 79.47059408896408 %\n",
      "For testing:\n",
      "               precision    recall  f1-score   support\n",
      "\n",
      "           0       0.82      0.92      0.87      3769\n",
      "           1       0.59      0.34      0.43      1181\n",
      "\n",
      "   micro avg       0.79      0.79      0.79      4950\n",
      "   macro avg       0.70      0.63      0.65      4950\n",
      "weighted avg       0.76      0.79      0.76      4950\n",
      "\n",
      "Accuracy: 78.54545454545455 %\n"
     ]
    }
   ],
   "source": [
    "from sklearn.metrics import confusion_matrix,classification_report\n",
    "print(\"For training:\\n\",classification_report(y_train,tr_pred))\n",
    "print(\"Accuracy:\",(y_train==tr_pred).mean()*100,'%')\n",
    "print(\"For testing:\\n\",classification_report(y_test,te_pred))\n",
    "print(\"Accuracy:\",(y_test==te_pred).mean()*100,'%')"
   ]
  },
  {
   "cell_type": "code",
   "execution_count": 17,
   "metadata": {
    "scrolled": false
   },
   "outputs": [
    {
     "name": "stdout",
     "output_type": "stream",
     "text": [
      "Training:\n"
     ]
    },
    {
     "data": {
      "image/png": "[encoded data removed]",
      "text/plain": [
       "<Figure size 842.4x595.44 with 2 Axes>"
      ]
     },
     "metadata": {},
     "output_type": "display_data"
    },
    {
     "name": "stdout",
     "output_type": "stream",
     "text": [
      "Testing\n"
     ]
    },
    {
     "data": {
      "image/png": "[encoded data removed]",
      "text/plain": [
       "<Figure size 842.4x595.44 with 2 Axes>"
      ]
     },
     "metadata": {},
     "output_type": "display_data"
    }
   ],
   "source": [
    "print(\"Training:\")\n",
    "sns.heatmap(confusion_matrix(y_train,tr_pred),annot=True,cmap='winter')\n",
    "plt.show()\n",
    "print(\"Testing\")\n",
    "sns.heatmap(confusion_matrix(y_test,te_pred),annot=True,cmap='summer')\n",
    "plt.show()"
   ]
  },
  {
   "cell_type": "markdown",
   "metadata": {},
   "source": [
    "# Model with ANN"
   ]
  },
  {
   "cell_type": "code",
   "execution_count": 18,
   "metadata": {},
   "outputs": [],
   "source": [
    "from tensorflow import keras"
   ]
  },
  {
   "cell_type": "code",
   "execution_count": 19,
   "metadata": {
    "scrolled": true
   },
   "outputs": [
    {
     "name": "stdout",
     "output_type": "stream",
     "text": [
      "WARNING:tensorflow:From C:\\Users\\USER\\Anaconda\\Anaconda3\\lib\\site-packages\\tensorflow\\python\\ops\\resource_variable_ops.py:435: colocate_with (from tensorflow.python.framework.ops) is deprecated and will be removed in a future version.\n",
      "Instructions for updating:\n",
      "Colocations handled automatically by placer.\n"
     ]
    }
   ],
   "source": [
    "model=keras.Sequential()\n",
    "model.add(keras.layers.Dense(9,'relu',input_shape=(9,)))\n",
    "model.add(keras.layers.Dense(9,'relu'))\n",
    "model.add(keras.layers.Dense(9,'relu'))\n",
    "model.add(keras.layers.Dense(9,'relu'))\n",
    "model.add(keras.layers.Dense(9,'relu'))\n",
    "model.add(keras.layers.Dense(1,'sigmoid'))\n",
    "model.compile(loss='binary_crossentropy',optimizer='adam',metrics=['accuracy'])\n",
    "#model.summary()"
   ]
  },
  {
   "cell_type": "code",
   "execution_count": 20,
   "metadata": {
    "collapsed": true
   },
   "outputs": [
    {
     "name": "stdout",
     "output_type": "stream",
     "text": [
      "WARNING:tensorflow:From C:\\Users\\USER\\Anaconda\\Anaconda3\\lib\\site-packages\\tensorflow\\python\\ops\\math_ops.py:3066: to_int32 (from tensorflow.python.ops.math_ops) is deprecated and will be removed in a future version.\n",
      "Instructions for updating:\n",
      "Use tf.cast instead.\n",
      "Epoch 1/100\n",
      "10049/10049 [==============================] - 2s 200us/sample - loss: 0.4461 - acc: 0.7754\n",
      "Epoch 2/100\n",
      "10049/10049 [==============================] - 1s 138us/sample - loss: 0.2230 - acc: 0.9323\n",
      "Epoch 3/100\n",
      "10049/10049 [==============================] - 1s 140us/sample - loss: 0.1604 - acc: 0.9502\n",
      "Epoch 4/100\n",
      "10049/10049 [==============================] - 1s 139us/sample - loss: 0.1466 - acc: 0.9567\n",
      "Epoch 5/100\n",
      "10049/10049 [==============================] - 1s 141us/sample - loss: 0.1396 - acc: 0.9578\n",
      "Epoch 6/100\n",
      "10049/10049 [==============================] - 1s 146us/sample - loss: 0.1351 - acc: 0.9591\n",
      "Epoch 7/100\n",
      "10049/10049 [==============================] - 2s 173us/sample - loss: 0.1306 - acc: 0.9601\n",
      "Epoch 8/100\n",
      "10049/10049 [==============================] - 1s 139us/sample - loss: 0.1294 - acc: 0.9617\n",
      "Epoch 9/100\n",
      "10049/10049 [==============================] - 1s 139us/sample - loss: 0.1251 - acc: 0.9624\n",
      "Epoch 10/100\n",
      "10049/10049 [==============================] - 2s 156us/sample - loss: 0.1228 - acc: 0.9637\n",
      "Epoch 11/100\n",
      "10049/10049 [==============================] - 1s 149us/sample - loss: 0.1216 - acc: 0.9639\n",
      "Epoch 12/100\n",
      "10049/10049 [==============================] - 1s 147us/sample - loss: 0.1195 - acc: 0.9634\n",
      "Epoch 13/100\n",
      "10049/10049 [==============================] - 1s 144us/sample - loss: 0.1185 - acc: 0.9650\n",
      "Epoch 14/100\n",
      "10049/10049 [==============================] - 2s 153us/sample - loss: 0.1167 - acc: 0.9638\n",
      "Epoch 15/100\n",
      "10049/10049 [==============================] - 2s 192us/sample - loss: 0.1163 - acc: 0.9663\n",
      "Epoch 16/100\n",
      "10049/10049 [==============================] - 2s 153us/sample - loss: 0.1146 - acc: 0.9660\n",
      "Epoch 17/100\n",
      "10049/10049 [==============================] - 1s 134us/sample - loss: 0.1129 - acc: 0.9665\n",
      "Epoch 18/100\n",
      "10049/10049 [==============================] - 1s 135us/sample - loss: 0.1134 - acc: 0.9656\n",
      "Epoch 19/100\n",
      "10049/10049 [==============================] - 1s 134us/sample - loss: 0.1119 - acc: 0.9674\n",
      "Epoch 20/100\n",
      "10049/10049 [==============================] - 1s 138us/sample - loss: 0.1109 - acc: 0.9664\n",
      "Epoch 21/100\n",
      "10049/10049 [==============================] - 1s 136us/sample - loss: 0.1103 - acc: 0.9679s - l\n",
      "Epoch 22/100\n",
      "10049/10049 [==============================] - 1s 145us/sample - loss: 0.1108 - acc: 0.9670\n",
      "Epoch 23/100\n",
      "10049/10049 [==============================] - 2s 173us/sample - loss: 0.1087 - acc: 0.9675\n",
      "Epoch 24/100\n",
      "10049/10049 [==============================] - 2s 151us/sample - loss: 0.1089 - acc: 0.9672\n",
      "Epoch 25/100\n",
      "10049/10049 [==============================] - 2s 166us/sample - loss: 0.1080 - acc: 0.9682\n",
      "Epoch 26/100\n",
      "10049/10049 [==============================] - 1s 134us/sample - loss: 0.1083 - acc: 0.9677\n",
      "Epoch 27/100\n",
      "10049/10049 [==============================] - 1s 137us/sample - loss: 0.1065 - acc: 0.9686\n",
      "Epoch 28/100\n",
      "10049/10049 [==============================] - 1s 134us/sample - loss: 0.1070 - acc: 0.9684\n",
      "Epoch 29/100\n",
      "10049/10049 [==============================] - 1s 135us/sample - loss: 0.1060 - acc: 0.9685\n",
      "Epoch 30/100\n",
      "10049/10049 [==============================] - 1s 139us/sample - loss: 0.1049 - acc: 0.9696\n",
      "Epoch 31/100\n",
      "10049/10049 [==============================] - 2s 179us/sample - loss: 0.1037 - acc: 0.9699\n",
      "Epoch 32/100\n",
      "10049/10049 [==============================] - 2s 165us/sample - loss: 0.1044 - acc: 0.9686\n",
      "Epoch 33/100\n",
      "10049/10049 [==============================] - 1s 148us/sample - loss: 0.1036 - acc: 0.9700\n",
      "Epoch 34/100\n",
      "10049/10049 [==============================] - 1s 138us/sample - loss: 0.1019 - acc: 0.9701\n",
      "Epoch 35/100\n",
      "10049/10049 [==============================] - 1s 138us/sample - loss: 0.1016 - acc: 0.9702\n",
      "Epoch 36/100\n",
      "10049/10049 [==============================] - 1s 137us/sample - loss: 0.1013 - acc: 0.9705\n",
      "Epoch 37/100\n",
      "10049/10049 [==============================] - 1s 141us/sample - loss: 0.1013 - acc: 0.9701\n",
      "Epoch 38/100\n",
      "10049/10049 [==============================] - 1s 137us/sample - loss: 0.1011 - acc: 0.9705\n",
      "Epoch 39/100\n",
      "10049/10049 [==============================] - 1s 137us/sample - loss: 0.1010 - acc: 0.9706\n",
      "Epoch 40/100\n",
      "10049/10049 [==============================] - 2s 179us/sample - loss: 0.1010 - acc: 0.9700\n",
      "Epoch 41/100\n",
      "10049/10049 [==============================] - 2s 193us/sample - loss: 0.0994 - acc: 0.9708\n",
      "Epoch 42/100\n",
      "10049/10049 [==============================] - 2s 204us/sample - loss: 0.0988 - acc: 0.9703\n",
      "Epoch 43/100\n",
      "10049/10049 [==============================] - 2s 175us/sample - loss: 0.1016 - acc: 0.9696\n",
      "Epoch 44/100\n",
      "10049/10049 [==============================] - 1s 141us/sample - loss: 0.0987 - acc: 0.9707\n",
      "Epoch 45/100\n",
      "10049/10049 [==============================] - 1s 136us/sample - loss: 0.0987 - acc: 0.9708\n",
      "Epoch 46/100\n",
      "10049/10049 [==============================] - 1s 140us/sample - loss: 0.0977 - acc: 0.9707\n",
      "Epoch 47/100\n",
      "10049/10049 [==============================] - 1s 139us/sample - loss: 0.0982 - acc: 0.9713\n",
      "Epoch 48/100\n",
      "10049/10049 [==============================] - 2s 156us/sample - loss: 0.0978 - acc: 0.9707\n",
      "Epoch 49/100\n",
      "10049/10049 [==============================] - 2s 189us/sample - loss: 0.0984 - acc: 0.9708\n",
      "Epoch 50/100\n",
      "10049/10049 [==============================] - 2s 191us/sample - loss: 0.0971 - acc: 0.9709\n",
      "Epoch 51/100\n",
      "10049/10049 [==============================] - 1s 141us/sample - loss: 0.0969 - acc: 0.9713\n",
      "Epoch 52/100\n",
      "10049/10049 [==============================] - 1s 147us/sample - loss: 0.0964 - acc: 0.9716\n",
      "Epoch 53/100\n",
      "10049/10049 [==============================] - 1s 143us/sample - loss: 0.0966 - acc: 0.9714\n",
      "Epoch 54/100\n",
      "10049/10049 [==============================] - 2s 157us/sample - loss: 0.0975 - acc: 0.9708\n",
      "Epoch 55/100\n",
      "10049/10049 [==============================] - 1s 145us/sample - loss: 0.0966 - acc: 0.9716\n",
      "Epoch 56/100\n",
      "10049/10049 [==============================] - 2s 151us/sample - loss: 0.0955 - acc: 0.9718\n",
      "Epoch 57/100\n",
      "10049/10049 [==============================] - 1s 143us/sample - loss: 0.0965 - acc: 0.9718\n",
      "Epoch 58/100\n",
      "10049/10049 [==============================] - 1s 147us/sample - loss: 0.0953 - acc: 0.9718\n",
      "Epoch 59/100\n",
      "10049/10049 [==============================] - 2s 158us/sample - loss: 0.0954 - acc: 0.9715\n",
      "Epoch 60/100\n",
      "10049/10049 [==============================] - 2s 156us/sample - loss: 0.0958 - acc: 0.9710\n",
      "Epoch 61/100\n",
      "10049/10049 [==============================] - 2s 177us/sample - loss: 0.0950 - acc: 0.9718\n",
      "Epoch 62/100\n",
      "10049/10049 [==============================] - 1s 138us/sample - loss: 0.0948 - acc: 0.9715\n",
      "Epoch 63/100\n",
      "10049/10049 [==============================] - 2s 155us/sample - loss: 0.0973 - acc: 0.9711\n",
      "Epoch 64/100\n",
      "10049/10049 [==============================] - 1s 147us/sample - loss: 0.0936 - acc: 0.9718\n",
      "Epoch 65/100\n",
      "10049/10049 [==============================] - 1s 140us/sample - loss: 0.0943 - acc: 0.9714\n",
      "Epoch 66/100\n",
      "10049/10049 [==============================] - 1s 148us/sample - loss: 0.0955 - acc: 0.9714\n",
      "Epoch 67/100\n",
      "10049/10049 [==============================] - 1s 145us/sample - loss: 0.0931 - acc: 0.9725\n",
      "Epoch 68/100\n",
      "10049/10049 [==============================] - 1s 144us/sample - loss: 0.0943 - acc: 0.9723\n",
      "Epoch 69/100\n",
      "10049/10049 [==============================] - 1s 147us/sample - loss: 0.0936 - acc: 0.9713\n",
      "Epoch 70/100\n",
      "10049/10049 [==============================] - 1s 144us/sample - loss: 0.0930 - acc: 0.9720\n",
      "Epoch 71/100\n",
      "10049/10049 [==============================] - 1s 142us/sample - loss: 0.0928 - acc: 0.9715\n",
      "Epoch 72/100\n",
      "10049/10049 [==============================] - 1s 146us/sample - loss: 0.0932 - acc: 0.9721\n",
      "Epoch 73/100\n",
      "10049/10049 [==============================] - 1s 147us/sample - loss: 0.0957 - acc: 0.9710\n",
      "Epoch 74/100\n",
      "10049/10049 [==============================] - 1s 142us/sample - loss: 0.0929 - acc: 0.9719\n",
      "Epoch 75/100\n",
      "10049/10049 [==============================] - 1s 144us/sample - loss: 0.0928 - acc: 0.9723\n",
      "Epoch 76/100\n"
     ]
    },
    {
     "name": "stdout",
     "output_type": "stream",
     "text": [
      "10049/10049 [==============================] - 1s 145us/sample - loss: 0.0929 - acc: 0.9730\n",
      "Epoch 77/100\n",
      "10049/10049 [==============================] - 1s 141us/sample - loss: 0.0918 - acc: 0.9725\n",
      "Epoch 78/100\n",
      "10049/10049 [==============================] - 1s 138us/sample - loss: 0.0921 - acc: 0.9723\n",
      "Epoch 79/100\n",
      "10049/10049 [==============================] - 1s 139us/sample - loss: 0.0920 - acc: 0.9728\n",
      "Epoch 80/100\n",
      "10049/10049 [==============================] - 1s 141us/sample - loss: 0.0915 - acc: 0.9728\n",
      "Epoch 81/100\n",
      "10049/10049 [==============================] - 1s 144us/sample - loss: 0.0911 - acc: 0.9724\n",
      "Epoch 82/100\n",
      "10049/10049 [==============================] - 1s 144us/sample - loss: 0.0918 - acc: 0.9728\n",
      "Epoch 83/100\n",
      "10049/10049 [==============================] - 1s 141us/sample - loss: 0.0913 - acc: 0.9725\n",
      "Epoch 84/100\n",
      "10049/10049 [==============================] - 1s 144us/sample - loss: 0.0909 - acc: 0.9721\n",
      "Epoch 85/100\n",
      "10049/10049 [==============================] - 1s 146us/sample - loss: 0.0901 - acc: 0.9727\n",
      "Epoch 86/100\n",
      "10049/10049 [==============================] - 2s 149us/sample - loss: 0.0916 - acc: 0.9720\n",
      "Epoch 87/100\n",
      "10049/10049 [==============================] - 1s 143us/sample - loss: 0.0906 - acc: 0.9726\n",
      "Epoch 88/100\n",
      "10049/10049 [==============================] - 1s 138us/sample - loss: 0.0902 - acc: 0.9720\n",
      "Epoch 89/100\n",
      "10049/10049 [==============================] - 1s 135us/sample - loss: 0.0901 - acc: 0.9722\n",
      "Epoch 90/100\n",
      "10049/10049 [==============================] - 1s 146us/sample - loss: 0.0898 - acc: 0.9726\n",
      "Epoch 91/100\n",
      "10049/10049 [==============================] - 1s 144us/sample - loss: 0.0895 - acc: 0.9729\n",
      "Epoch 92/100\n",
      "10049/10049 [==============================] - 1s 140us/sample - loss: 0.0912 - acc: 0.9721\n",
      "Epoch 93/100\n",
      "10049/10049 [==============================] - 1s 140us/sample - loss: 0.0889 - acc: 0.9727\n",
      "Epoch 94/100\n",
      "10049/10049 [==============================] - 1s 141us/sample - loss: 0.0877 - acc: 0.9731\n",
      "Epoch 95/100\n",
      "10049/10049 [==============================] - 1s 143us/sample - loss: 0.0891 - acc: 0.9731\n",
      "Epoch 96/100\n",
      "10049/10049 [==============================] - 1s 142us/sample - loss: 0.0878 - acc: 0.9737\n",
      "Epoch 97/100\n",
      "10049/10049 [==============================] - 1s 141us/sample - loss: 0.0875 - acc: 0.9728\n",
      "Epoch 98/100\n",
      "10049/10049 [==============================] - 1s 147us/sample - loss: 0.0886 - acc: 0.9738\n",
      "Epoch 99/100\n",
      "10049/10049 [==============================] - 1s 146us/sample - loss: 0.0874 - acc: 0.9743\n",
      "Epoch 100/100\n",
      "10049/10049 [==============================] - 1s 145us/sample - loss: 0.0878 - acc: 0.9732\n"
     ]
    }
   ],
   "source": [
    "history=model.fit(X_train,y_train,batch_size=32,epochs=100)"
   ]
  },
  {
   "cell_type": "code",
   "execution_count": 27,
   "metadata": {},
   "outputs": [
    {
     "data": {
      "image/png": "[encoded data removed]",
      "text/plain": [
       "<Figure size 842.4x595.44 with 1 Axes>"
      ]
     },
     "metadata": {},
     "output_type": "display_data"
    }
   ],
   "source": [
    "plt.plot(history.history['acc'])\n",
    "plt.xlabel(\"epoch\")\n",
    "plt.ylabel(\"Accuracy\")\n",
    "plt.title(\"Accuracy ANN  training\")\n",
    "plt.show()"
   ]
  },
  {
   "cell_type": "code",
   "execution_count": 21,
   "metadata": {},
   "outputs": [],
   "source": [
    "tr_pred=model.predict_classes(X_train).flatten()\n",
    "te_pred=model.predict_classes(X_test).flatten()"
   ]
  },
  {
   "cell_type": "code",
   "execution_count": 22,
   "metadata": {},
   "outputs": [
    {
     "name": "stdout",
     "output_type": "stream",
     "text": [
      "For training:\n",
      "               precision    recall  f1-score   support\n",
      "\n",
      "           0       0.98      0.99      0.98      7659\n",
      "           1       0.97      0.93      0.95      2390\n",
      "\n",
      "   micro avg       0.98      0.98      0.98     10049\n",
      "   macro avg       0.98      0.96      0.97     10049\n",
      "weighted avg       0.98      0.98      0.98     10049\n",
      "\n",
      "Accuracy: 97.64155637376854 %\n",
      "For testing:\n",
      "               precision    recall  f1-score   support\n",
      "\n",
      "           0       0.97      0.98      0.98      3769\n",
      "           1       0.95      0.89      0.92      1181\n",
      "\n",
      "   micro avg       0.96      0.96      0.96      4950\n",
      "   macro avg       0.96      0.94      0.95      4950\n",
      "weighted avg       0.96      0.96      0.96      4950\n",
      "\n",
      "Accuracy: 96.28282828282828 %\n"
     ]
    }
   ],
   "source": [
    "from sklearn.metrics import confusion_matrix,classification_report\n",
    "print(\"For training:\\n\",classification_report(y_train,tr_pred))\n",
    "print(\"Accuracy:\",(y_train==tr_pred).mean()*100,'%')\n",
    "print(\"For testing:\\n\",classification_report(y_test,te_pred))\n",
    "print(\"Accuracy:\",(y_test==te_pred).mean()*100,'%')"
   ]
  },
  {
   "cell_type": "code",
   "execution_count": 23,
   "metadata": {},
   "outputs": [
    {
     "name": "stdout",
     "output_type": "stream",
     "text": [
      "Training:\n"
     ]
    },
    {
     "data": {
      "image/png": "[encoded data removed]",
      "text/plain": [
       "<Figure size 842.4x595.44 with 2 Axes>"
      ]
     },
     "metadata": {},
     "output_type": "display_data"
    },
    {
     "name": "stdout",
     "output_type": "stream",
     "text": [
      "Testing\n"
     ]
    },
    {
     "data": {
      "image/png": "[encoded data removed]",
      "text/plain": [
       "<Figure size 842.4x595.44 with 2 Axes>"
      ]
     },
     "metadata": {},
     "output_type": "display_data"
    }
   ],
   "source": [
    "print(\"Training:\")\n",
    "sns.heatmap(confusion_matrix(y_train,tr_pred),annot=True,cmap='winter')\n",
    "plt.show()\n",
    "print(\"Testing\")\n",
    "sns.heatmap(confusion_matrix(y_test,te_pred),annot=True,cmap='summer')\n",
    "plt.show()"
   ]
  },
  {
   "cell_type": "code",
   "execution_count": 24,
   "metadata": {},
   "outputs": [],
   "source": [
    "#NICE"
   ]
  }
 ],
 "metadata": {
  "kernelspec": {
   "display_name": "Python 3",
   "language": "python",
   "name": "python3"
  },
  "language_info": {
   "codemirror_mode": {
    "name": "ipython",
    "version": 3
   },
   "file_extension": ".py",
   "mimetype": "text/x-python",
   "name": "python",
   "nbconvert_exporter": "python",
   "pygments_lexer": "ipython3",
   "version": "3.7.3"
  }
 },
 "nbformat": 4,
 "nbformat_minor": 2
}
